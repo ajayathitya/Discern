{
  "nbformat": 4,
  "nbformat_minor": 0,
  "metadata": {
    "colab": {
      "name": "cnn_final_model.ipynb",
      "version": "0.3.2",
      "provenance": [],
      "collapsed_sections": []
    },
    "kernelspec": {
      "name": "python3",
      "display_name": "Python 3"
    },
    "accelerator": "GPU"
  },
  "cells": [
    {
      "cell_type": "code",
      "metadata": {
        "id": "qWg_2TbqZWfZ",
        "colab_type": "code",
        "outputId": "42c83d09-183a-4cbc-f4c5-aa4890bc5626",
        "colab": {
          "base_uri": "https://localhost:8080/",
          "height": 168
        }
      },
      "source": [
        "#Requirements\n",
        "!pip install emnist\n",
        "!pip install python-mnist"
      ],
      "execution_count": 1,
      "outputs": [
        {
          "output_type": "stream",
          "text": [
            "Requirement already satisfied: emnist in /usr/local/lib/python3.6/dist-packages (0.0)\n",
            "Requirement already satisfied: tqdm in /usr/local/lib/python3.6/dist-packages (from emnist) (4.28.1)\n",
            "Requirement already satisfied: numpy in /usr/local/lib/python3.6/dist-packages (from emnist) (1.16.4)\n",
            "Requirement already satisfied: requests in /usr/local/lib/python3.6/dist-packages (from emnist) (2.21.0)\n",
            "Requirement already satisfied: idna<2.9,>=2.5 in /usr/local/lib/python3.6/dist-packages (from requests->emnist) (2.8)\n",
            "Requirement already satisfied: certifi>=2017.4.17 in /usr/local/lib/python3.6/dist-packages (from requests->emnist) (2019.6.16)\n",
            "Requirement already satisfied: urllib3<1.25,>=1.21.1 in /usr/local/lib/python3.6/dist-packages (from requests->emnist) (1.24.3)\n",
            "Requirement already satisfied: chardet<3.1.0,>=3.0.2 in /usr/local/lib/python3.6/dist-packages (from requests->emnist) (3.0.4)\n",
            "Requirement already satisfied: python-mnist in /usr/local/lib/python3.6/dist-packages (0.6)\n"
          ],
          "name": "stdout"
        }
      ]
    },
    {
      "cell_type": "code",
      "metadata": {
        "id": "K3sU_xODeeko",
        "colab_type": "code",
        "outputId": "b56e56dc-2835-43bb-d39e-74adcc14c065",
        "colab": {
          "base_uri": "https://localhost:8080/",
          "height": 34
        }
      },
      "source": [
        "#Libraries\n",
        "from keras.models import Sequential\n",
        "from keras.layers import Dense\n",
        "from keras.layers import Dropout\n",
        "from keras.layers import Flatten\n",
        "from keras.layers.convolutional import Conv2D\n",
        "from keras.layers.convolutional import MaxPooling2D\n",
        "from keras import backend as K\n",
        "from keras.utils import np_utils\n",
        "from keras.models import load_model\n",
        "from sklearn.model_selection import train_test_split\n",
        "import numpy as np\n",
        "from emnist import extract_test_samples\n",
        "from emnist import extract_training_samples\n",
        "import matplotlib.pyplot as plt\n",
        "from tensorflow.keras.utils import to_categorical"
      ],
      "execution_count": 2,
      "outputs": [
        {
          "output_type": "stream",
          "text": [
            "Using TensorFlow backend.\n"
          ],
          "name": "stderr"
        }
      ]
    },
    {
      "cell_type": "code",
      "metadata": {
        "id": "j6079v81fXPC",
        "colab_type": "code",
        "outputId": "616309d3-6865-45c5-a16b-2f8eaea563ee",
        "colab": {
          "base_uri": "https://localhost:8080/",
          "height": 302
        }
      },
      "source": [
        "#Data Pre- Processing\n",
        "x_train, y_train= extract_training_samples('bymerge')\n",
        "x_test, y_test =extract_test_samples('bymerge')\n",
        "x_train = x_train.astype(np.float32)\n",
        "x_test = x_test.astype(np.float32)\n",
        "\n",
        "train_labels = y_train\n",
        "test_labels = y_test\n",
        "\n",
        "print(x_train[0].shape)\n",
        "\n",
        "x_train = x_train.reshape(697932,1,28,28)\n",
        "x_test = x_test.reshape(116323,1,28,28)\n",
        "\n",
        "plt.imshow(x_train[7][0], cmap= 'gray')\n",
        "print(y_train[7])"
      ],
      "execution_count": 3,
      "outputs": [
        {
          "output_type": "stream",
          "text": [
            "(28, 28)\n",
            "1\n"
          ],
          "name": "stdout"
        },
        {
          "output_type": "display_data",
          "data": {
            "image/png": "[encoded data removed]",
            "text/plain": [
              "<Figure size 432x288 with 1 Axes>"
            ]
          },
          "metadata": {
            "tags": []
          }
        }
      ]
    },
    {
      "cell_type": "code",
      "metadata": {
        "id": "r1MmDt3wfpHB",
        "colab_type": "code",
        "colab": {}
      },
      "source": [
        "#Arrangement in Categorical way(By Merge)\n",
        "y_train = to_categorical(y_train, 47)\n",
        "y_test = to_categorical(y_test, 47)"
      ],
      "execution_count": 0,
      "outputs": []
    },
    {
      "cell_type": "code",
      "metadata": {
        "id": "-NySKHxGgsQF",
        "colab_type": "code",
        "colab": {}
      },
      "source": [
        "x_train = x_train.astype('float32')/255\n",
        "x_test = x_test.astype('float32')/255"
      ],
      "execution_count": 0,
      "outputs": []
    },
    {
      "cell_type": "code",
      "metadata": {
        "id": "16QyfFa3KMlV",
        "colab_type": "code",
        "outputId": "3f7f985d-67b6-4f44-cfba-ff581afbaebb",
        "colab": {
          "base_uri": "https://localhost:8080/",
          "height": 470
        }
      },
      "source": [
        "model = Sequential()\n",
        "model.add(Flatten(input_shape=x_train.shape[1:]))\n",
        "model.add(Dense(512, activation='relu'))\n",
        "model.add(Dropout(0.2))\n",
        "model.add(Dense(512, activation='relu'))\n",
        "model.add(Dropout(0.2))\n",
        "model.add(Dense(47, activation='softmax'))\n",
        "\n",
        "model.summary()\n",
        "\n",
        "model.compile(loss='categorical_crossentropy', optimizer='rmsprop',metrics=['accuracy'])\n",
        "model.fit(x_train, y_train, batch_size=128, epochs=3,validation_split=0.2, shuffle=True)\n",
        "model.save('emnist_model.h5')\n",
        "\n",
        "score = model.evaluate(x_test, y_test, verbose=0)\n",
        "accuracy = score[1]*100\n",
        "print('Accuracy: %.2f%%' % accuracy)"
      ],
      "execution_count": 7,
      "outputs": [
        {
          "output_type": "stream",
          "text": [
            "_________________________________________________________________\n",
            "Layer (type)                 Output Shape              Param #   \n",
            "=================================================================\n",
            "flatten_2 (Flatten)          (None, 784)               0         \n",
            "_________________________________________________________________\n",
            "dense_4 (Dense)              (None, 512)               401920    \n",
            "_________________________________________________________________\n",
            "dropout_3 (Dropout)          (None, 512)               0         \n",
            "_________________________________________________________________\n",
            "dense_5 (Dense)              (None, 512)               262656    \n",
            "_________________________________________________________________\n",
            "dropout_4 (Dropout)          (None, 512)               0         \n",
            "_________________________________________________________________\n",
            "dense_6 (Dense)              (None, 47)                24111     \n",
            "=================================================================\n",
            "Total params: 688,687\n",
            "Trainable params: 688,687\n",
            "Non-trainable params: 0\n",
            "_________________________________________________________________\n",
            "Train on 558345 samples, validate on 139587 samples\n",
            "Epoch 1/3\n",
            "558345/558345 [==============================] - 19s 35us/step - loss: 0.5746 - acc: 0.8170 - val_loss: 0.4144 - val_acc: 0.8611\n",
            "Epoch 2/3\n",
            "558345/558345 [==============================] - 18s 33us/step - loss: 0.5023 - acc: 0.8430 - val_loss: 0.4333 - val_acc: 0.8641\n",
            "Epoch 3/3\n",
            "558345/558345 [==============================] - 19s 33us/step - loss: 0.5377 - acc: 0.8388 - val_loss: 0.4480 - val_acc: 0.8643\n",
            "Accuracy: 86.34%\n"
          ],
          "name": "stdout"
        }
      ]
    },
    {
      "cell_type": "code",
      "metadata": {
        "id": "L7E3AzDqtBPM",
        "colab_type": "code",
        "colab": {}
      },
      "source": [
        "from google.colab import files\n",
        "files.download('emnist_model.h5')"
      ],
      "execution_count": 0,
      "outputs": []
    }
  ]
}