{
 "cells": [
  {
   "cell_type": "code",
   "execution_count": null,
   "metadata": {
    "colab": {},
    "colab_type": "code",
    "id": "rzjfQHVvo4CM"
   },
   "outputs": [],
   "source": [
    "from tensorflow.keras.models import Sequential\n",
    "from tensorflow.keras.layers import Dense, Conv2D, Flatten, Lambda, BatchNormalization, Dropout, MaxPooling2D\n",
    "import matplotlib.pyplot as plt\n",
    "from tensorflow.keras.datasets import mnist\n",
    "from tensorflow.keras.utils import to_categorical\n",
    "from keras.layers.advanced_activations import LeakyReLU\n",
    "from keras.optimizers import Adam as Adam"
   ]
  },
  {
   "cell_type": "code",
   "execution_count": null,
   "metadata": {
    "colab": {
     "base_uri": "https://localhost:8080/",
     "height": 835
    },
    "colab_type": "code",
    "id": "N2cGN32-pkeM",
    "outputId": "99d386bb-0fe9-4cc4-f8ce-f448b8df1a5b"
   },
   "outputs": [],
   "source": [
    "!rm -rf gzip*\n",
    "!wget http://www.itl.nist.gov/iaui/vip/cs_links/EMNIST/gzip.zip\n",
    "!unzip gzip.zip"
   ]
  },
  {
   "cell_type": "code",
   "execution_count": null,
   "metadata": {
    "cellView": "code",
    "colab": {},
    "colab_type": "code",
    "id": "32KTe47bpv07"
   },
   "outputs": [],
   "source": [
    "#@title Default title text\n",
    "from sklearn.neural_network import MLPClassifier\n",
    "from sklearn import *\n",
    "from sklearn.metrics import *\n",
    "from PIL import Image\n",
    "import cv2\n",
    "import numpy as np\n",
    "import matplotlib.pyplot as plt\n",
    "from mnist import MNIST\n",
    "\n",
    "emnist_data = MNIST(path='./gzip/', return_type='numpy')\n",
    "emnist_data.select_emnist('byclass')\n",
    "x_orig, y_orig = emnist_data.load_training()\n",
    "\n"
   ]
  },
  {
   "cell_type": "code",
   "execution_count": null,
   "metadata": {
    "colab": {},
    "colab_type": "code",
    "id": "GYvoxafirXB7"
   },
   "outputs": [],
   "source": [
    "X_train = x_orig[0:60000, :]\n",
    "Y = y_orig.reshape(y_orig.shape[0], 1)\n",
    "Y = Y[0:60000, :]\n",
    "Y = Y[:, 0]\n",
    "Y_train = (np.arange(np.max(Y) + 1) == Y[:, None]).astype(int)\n",
    "\n",
    "X_test = x_orig[61000:81000, :]\n",
    "Y_test = y_orig.reshape(y_orig.shape[0], 1)\n",
    "Y_test = Y_test[61000:81000, :]\n",
    "Y_test = Y_test[:, 0]\n"
   ]
  },
  {
   "cell_type": "code",
   "execution_count": null,
   "metadata": {
    "colab": {},
    "colab_type": "code",
    "id": "25CRvT5ZwaD2"
   },
   "outputs": [],
   "source": [
    "X_train = X_train.reshape(X_train.shape[0], 28, 28, 1, order=\"A\")\n",
    "X_test = X_test.reshape(X_test.shape[0], 28, 28, 1, order=\"A\")"
   ]
  },
  {
   "cell_type": "code",
   "execution_count": null,
   "metadata": {
    "colab": {
     "base_uri": "https://localhost:8080/",
     "height": 35
    },
    "colab_type": "code",
    "id": "X4br-i0yxDyd",
    "outputId": "deb9d4ae-3369-4637-d34e-417d9da62d20"
   },
   "outputs": [],
   "source": [
    "X_train.shape"
   ]
  },
  {
   "cell_type": "code",
   "execution_count": null,
   "metadata": {
    "colab": {},
    "colab_type": "code",
    "id": "lDYbqrV2xfd9"
   },
   "outputs": [],
   "source": [
    "Y_train = to_categorical(Y_train, 62)\n",
    "Y_test = to_categorical(Y_test, 62)"
   ]
  },
  {
   "cell_type": "code",
   "execution_count": null,
   "metadata": {
    "colab": {
     "base_uri": "https://localhost:8080/",
     "height": 287
    },
    "colab_type": "code",
    "id": "EIKB_2-JyBOF",
    "outputId": "884ed0d5-6736-416e-e96b-41f6222184f3"
   },
   "outputs": [],
   "source": [
    "img = X_train[50089]\n",
    "\n",
    "# visualize image\n",
    "plt.imshow(img[0], cmap='gray')"
   ]
  },
  {
   "cell_type": "code",
   "execution_count": null,
   "metadata": {
    "colab": {
     "base_uri": "https://localhost:8080/",
     "height": 423
    },
    "colab_type": "code",
    "id": "jXWW0Gbl2HAk",
    "outputId": "20a0c123-d122-4c1c-dbf0-e5c674db02d8"
   },
   "outputs": [],
   "source": [
    "model = Sequential()\n",
    "#add model layers\n",
    "model.add(Conv2D(1024, kernel_size=3, activation='relu', input_shape=(28,28,1)))\n",
    "model.add(Conv2D(512, kernel_size=3, activation='relu'))\n",
    "model.add(Flatten())\n",
    "model.add(Dense(62, activation='softmax'))\n",
    "model.compile(optimizer='adam', loss='categorical_crossentropy', metrics=['accuracy'])\n",
    "model.fit(X_train, Y_train,validation_data=(X_test, Y_test), epochs=3)"
   ]
  },
  {
   "cell_type": "code",
   "execution_count": null,
   "metadata": {
    "colab": {},
    "colab_type": "code",
    "id": "AJNv0KXs5Gbd"
   },
   "outputs": [],
   "source": [
    "mean_px = X_train.mean().astype(np.float32)\n",
    "std_px = X_train.std().astype(np.float32)\n",
    "\n",
    "# function to normalize input data\n",
    "def norm_input(x): return (x-mean_px)/std_px"
   ]
  },
  {
   "cell_type": "code",
   "execution_count": null,
   "metadata": {},
   "outputs": [],
   "source": []
  },
  {
   "cell_type": "code",
   "execution_count": null,
   "metadata": {},
   "outputs": [],
   "source": [
    "print(\"Hello\")"
   ]
  },
  {
   "cell_type": "code",
   "execution_count": null,
   "metadata": {},
   "outputs": [],
   "source": []
  },
  {
   "cell_type": "code",
   "execution_count": null,
   "metadata": {},
   "outputs": [],
   "source": []
  }
 ],
 "metadata": {
  "accelerator": "GPU",
  "colab": {
   "collapsed_sections": [],
   "name": "emnist_cnn.ipynb",
   "provenance": [],
   "version": "0.3.2"
  },
  "kernelspec": {
   "display_name": "Python 3",
   "language": "python",
   "name": "python3"
  },
  "language_info": {
   "codemirror_mode": {
    "name": "ipython",
    "version": 3
   },
   "file_extension": ".py",
   "mimetype": "text/x-python",
   "name": "python",
   "nbconvert_exporter": "python",
   "pygments_lexer": "ipython3",
   "version": "3.7.3"
  }
 },
 "nbformat": 4,
 "nbformat_minor": 1
}
